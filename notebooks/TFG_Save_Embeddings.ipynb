{
  "nbformat": 4,
  "nbformat_minor": 0,
  "metadata": {
    "colab": {
      "provenance": []
    },
    "kernelspec": {
      "name": "python3",
      "display_name": "Python 3"
    },
    "language_info": {
      "name": "python"
    }
  },
  "cells": [
    {
      "cell_type": "markdown",
      "source": [
        "# TFG - Fórmula 1 - ML\n",
        "\n",
        "Autor: Manuel Ventura Pacheco\n",
        "\n",
        "Obtener archivos con los embeddings de los modelos para mostrar en la herramienta [Embedding Projector](https://projector.tensorflow.org/) de Tensorflow."
      ],
      "metadata": {
        "id": "D3bE7nWBWK3L"
      }
    },
    {
      "cell_type": "code",
      "execution_count": null,
      "metadata": {
        "id": "uXAR21dpzAyz"
      },
      "outputs": [],
      "source": [
        "import numpy as np\n",
        "import pandas as pd\n",
        "from sklearn.preprocessing import MinMaxScaler\n",
        "import tensorflow as tf\n",
        "from tensorflow import keras\n",
        "from keras.layers import Dense, Embedding, Dropout, Input, Flatten, BatchNormalization, concatenate, AlphaDropout\n",
        "\n",
        "from google.colab import drive\n",
        "\n",
        "import io\n",
        "import os\n",
        "import re\n",
        "import shutil"
      ]
    },
    {
      "cell_type": "markdown",
      "source": [
        "## Read files"
      ],
      "metadata": {
        "id": "0PV3cSUlEJ9s"
      }
    },
    {
      "cell_type": "code",
      "source": [
        "read_dir = '/content/drive/MyDrive/Universidad/TFG/data_ready/'\n",
        "save_dir = '/content/drive/MyDrive/Universidad/TFG/models/'"
      ],
      "metadata": {
        "id": "Sg2LGOHHzYaU"
      },
      "execution_count": null,
      "outputs": []
    },
    {
      "cell_type": "code",
      "source": [
        "drive.mount('/content/drive')"
      ],
      "metadata": {
        "colab": {
          "base_uri": "https://localhost:8080/"
        },
        "id": "5NJcGBQozfh7",
        "outputId": "68fdf620-fb42-4132-a113-a1506b533ba9"
      },
      "execution_count": null,
      "outputs": [
        {
          "output_type": "stream",
          "name": "stdout",
          "text": [
            "Mounted at /content/drive\n"
          ]
        }
      ]
    },
    {
      "cell_type": "code",
      "source": [
        "model = tf.keras.models.load_model(save_dir+'nn_model_categorical_nolookup.h5')\n",
        "df = pd.read_csv(read_dir+'LEARNING_DF_NORMAL.csv')\n",
        "df = df.loc[df['year'] >= 2000].copy()\n",
        "drivers = pd.read_csv(read_dir+'drivers.csv')\n",
        "drivers['fullName'] = drivers['forename'] + drivers['surname']\n",
        "constructors = pd.read_csv(read_dir+'constructors.csv')\n",
        "circuits = pd.read_csv(read_dir+'circuits.csv')"
      ],
      "metadata": {
        "id": "OO8F6jA1zhYp"
      },
      "execution_count": null,
      "outputs": []
    },
    {
      "cell_type": "markdown",
      "source": [
        "## Prepare data"
      ],
      "metadata": {
        "id": "47bnywLKEM9_"
      }
    },
    {
      "cell_type": "code",
      "source": [
        "driverIds = set(df['driverId'])\n",
        "constructorIds = set(df['constructorId'])\n",
        "circuitIds = set(df['circuitId'])"
      ],
      "metadata": {
        "id": "hrBqpP5_EEpj"
      },
      "execution_count": null,
      "outputs": []
    },
    {
      "cell_type": "code",
      "source": [
        "drivers = drivers.drop(['driverRef', 'number', 'code', 'forename', 'surname', 'dob', 'nationality', 'url'], axis=1)\n",
        "constructors = constructors.drop(['constructorRef', 'nationality', 'url'], axis=1)\n",
        "circuits = circuits.drop(['circuitRef', 'location', 'country', 'lat', 'lng', 'alt', 'url'], axis=1)"
      ],
      "metadata": {
        "id": "5g_95hz2EEvF"
      },
      "execution_count": null,
      "outputs": []
    },
    {
      "cell_type": "code",
      "source": [
        "drivers = drivers[drivers['driverId'].isin(driverIds)]\n",
        "constructors = constructors[constructors['constructorId'].isin(constructorIds)]\n",
        "circuits = circuits[circuits['circuitId'].isin(circuitIds)]"
      ],
      "metadata": {
        "id": "Yi5TQhFVHfS-"
      },
      "execution_count": null,
      "outputs": []
    },
    {
      "cell_type": "code",
      "source": [
        "for index, row in drivers.iterrows():\n",
        "  print(row[0],row[1])"
      ],
      "metadata": {
        "colab": {
          "base_uri": "https://localhost:8080/"
        },
        "id": "DG-wQmjpEE0v",
        "outputId": "dc9b8584-d3ad-401f-d28b-c460ca9781f0"
      },
      "execution_count": null,
      "outputs": [
        {
          "output_type": "stream",
          "name": "stdout",
          "text": [
            "1 LewisHamilton\n",
            "2 NickHeidfeld\n",
            "3 NicoRosberg\n",
            "4 FernandoAlonso\n",
            "5 HeikkiKovalainen\n",
            "6 KazukiNakajima\n",
            "7 SébastienBourdais\n",
            "8 KimiRäikkönen\n",
            "9 RobertKubica\n",
            "10 TimoGlock\n",
            "11 TakumaSato\n",
            "12 NelsonPiquet Jr.\n",
            "13 FelipeMassa\n",
            "14 DavidCoulthard\n",
            "15 JarnoTrulli\n",
            "16 AdrianSutil\n",
            "17 MarkWebber\n",
            "18 JensonButton\n",
            "19 AnthonyDavidson\n",
            "20 SebastianVettel\n",
            "21 GiancarloFisichella\n",
            "22 RubensBarrichello\n",
            "23 RalfSchumacher\n",
            "24 VitantonioLiuzzi\n",
            "25 AlexanderWurz\n",
            "26 ScottSpeed\n",
            "27 ChristijanAlbers\n",
            "28 MarkusWinkelhock\n",
            "29 SakonYamamoto\n",
            "30 MichaelSchumacher\n",
            "31 JuanPablo Montoya\n",
            "32 ChristianKlien\n",
            "33 TiagoMonteiro\n",
            "34 YujiIde\n",
            "35 JacquesVilleneuve\n",
            "36 FranckMontagny\n",
            "37 Pedrode la Rosa\n",
            "38 RobertDoornbos\n",
            "39 NarainKarthikeyan\n",
            "40 PatrickFriesacher\n",
            "41 RicardoZonta\n",
            "42 AntônioPizzonia\n",
            "43 Cristianoda Matta\n",
            "44 OlivierPanis\n",
            "45 GiorgioPantano\n",
            "46 GianmariaBruni\n",
            "47 ZsoltBaumgartner\n",
            "48 MarcGené\n",
            "49 Heinz-HaraldFrentzen\n",
            "50 JosVerstappen\n",
            "51 JustinWilson\n",
            "52 RalphFirman\n",
            "53 NicolasKiesa\n",
            "54 LucianoBurti\n",
            "55 JeanAlesi\n",
            "56 EddieIrvine\n",
            "57 MikaHäkkinen\n",
            "58 TarsoMarques\n",
            "59 EnriqueBernoldi\n",
            "60 GastónMazzacane\n",
            "61 TomášEnge\n",
            "62 AlexYoong\n",
            "63 MikaSalo\n",
            "64 PedroDiniz\n",
            "65 JohnnyHerbert\n",
            "66 AllanMcNish\n",
            "67 SébastienBuemi\n",
            "69 LucaBadoer\n",
            "153 JaimeAlguersuari\n",
            "154 RomainGrosjean\n",
            "155 KamuiKobayashi\n",
            "842 PierreGasly\n",
            "807 NicoHülkenberg\n",
            "808 VitalyPetrov\n",
            "810 Lucasdi Grassi\n",
            "811 BrunoSenna\n",
            "812 KarunChandhok\n",
            "813 PastorMaldonado\n",
            "814 Pauldi Resta\n",
            "815 SergioPérez\n",
            "816 Jérômed'Ambrosio\n",
            "817 DanielRicciardo\n",
            "818 Jean-ÉricVergne\n",
            "819 CharlesPic\n",
            "820 MaxChilton\n",
            "821 EstebanGutiérrez\n",
            "822 ValtteriBottas\n",
            "823 Giedovan der Garde\n",
            "824 JulesBianchi\n",
            "825 KevinMagnussen\n",
            "826 DaniilKvyat\n",
            "827 AndréLotterer\n",
            "828 MarcusEricsson\n",
            "829 WillStevens\n",
            "830 MaxVerstappen\n",
            "831 FelipeNasr\n",
            "832 CarlosSainz\n",
            "833 RobertoMerhi\n",
            "834 AlexanderRossi\n",
            "835 JolyonPalmer\n",
            "836 PascalWehrlein\n",
            "837 RioHaryanto\n",
            "838 StoffelVandoorne\n",
            "839 EstebanOcon\n",
            "840 LanceStroll\n",
            "841 AntonioGiovinazzi\n",
            "843 BrendonHartley\n",
            "844 CharlesLeclerc\n",
            "845 SergeySirotkin\n",
            "846 LandoNorris\n",
            "847 GeorgeRussell\n",
            "848 AlexanderAlbon\n",
            "849 NicholasLatifi\n",
            "850 PietroFittipaldi\n",
            "851 JackAitken\n",
            "852 YukiTsunoda\n",
            "853 NikitaMazepin\n",
            "854 MickSchumacher\n",
            "855 GuanyuZhou\n",
            "856 Nyckde Vries\n",
            "857 OscarPiastri\n",
            "858 LoganSargeant\n"
          ]
        }
      ]
    },
    {
      "cell_type": "markdown",
      "source": [
        "## Obtain embeddings"
      ],
      "metadata": {
        "id": "2KwrtQebEPBI"
      }
    },
    {
      "cell_type": "code",
      "source": [
        "driver_embedding = model.get_layer('Driver_Embeddding').get_weights()[0]\n",
        "constructor_embedding = model.get_layer('Constructor_Embedding').get_weights()[0]\n",
        "circuit_embedding = model.get_layer('Circuit_Embedding').get_weights()[0]"
      ],
      "metadata": {
        "id": "yELBSBX8zoc2"
      },
      "execution_count": null,
      "outputs": []
    },
    {
      "cell_type": "code",
      "source": [
        "# Driver embeddings\n",
        "out_v = io.open('driver_vectors_cat_nolookup.tsv', 'w', encoding='utf-8')\n",
        "out_m = io.open('driver_metadata_cat_nolookup.tsv', 'w', encoding='utf-8')\n",
        "\n",
        "for index_df, row in drivers.iterrows():\n",
        "  index = row[0]\n",
        "  name = row[1]\n",
        "  if index == 0:\n",
        "    continue  # skip 0, it's padding.\n",
        "  vec = driver_embedding[index]\n",
        "  out_v.write('\\t'.join([str(x) for x in vec]) + \"\\n\")\n",
        "  out_m.write(name + \"\\n\")\n",
        "out_v.close()\n",
        "out_m.close()\n"
      ],
      "metadata": {
        "id": "7_WZut5EzzFZ"
      },
      "execution_count": null,
      "outputs": []
    },
    {
      "cell_type": "code",
      "source": [
        "# Constructor embeddings\n",
        "out_v = io.open('constructor_vectors_cat_nolookup.tsv', 'w', encoding='utf-8')\n",
        "out_m = io.open('constructor_metadata_cat_nolookup.tsv', 'w', encoding='utf-8')\n",
        "\n",
        "for index_df, row in constructors.iterrows():\n",
        "  index = row[0]\n",
        "  name = row[1]\n",
        "  if index == 0:\n",
        "    continue  # skip 0, it's padding.\n",
        "  vec = driver_embedding[index]\n",
        "  out_v.write('\\t'.join([str(x) for x in vec]) + \"\\n\")\n",
        "  out_m.write(name + \"\\n\")\n",
        "out_v.close()\n",
        "out_m.close()"
      ],
      "metadata": {
        "id": "2wMP6140JaKO"
      },
      "execution_count": null,
      "outputs": []
    },
    {
      "cell_type": "code",
      "source": [
        "# Circuit embeddings\n",
        "out_v = io.open('circuit_vectors_cat_nolookup.tsv', 'w', encoding='utf-8')\n",
        "out_m = io.open('circuit_metadata_cat_nolookup.tsv', 'w', encoding='utf-8')\n",
        "\n",
        "for index_df, row in circuits.iterrows():\n",
        "  index = row[0]\n",
        "  name = row[1]\n",
        "  if index == 0:\n",
        "    continue  # skip 0, it's padding.\n",
        "  vec = driver_embedding[index]\n",
        "  out_v.write('\\t'.join([str(x) for x in vec]) + \"\\n\")\n",
        "  out_m.write(name + \"\\n\")\n",
        "out_v.close()\n",
        "out_m.close()"
      ],
      "metadata": {
        "id": "aOrCmm8gJnjD"
      },
      "execution_count": null,
      "outputs": []
    },
    {
      "cell_type": "code",
      "source": [
        "try:\n",
        "  from google.colab import files\n",
        "  for file_vec in ['driver_vectors_cat_nolookup.tsv', 'driver_metadata_cat_nolookup.tsv',\n",
        "                   'constructor_vectors_cat_nolookup.tsv', 'constructor_metadata_cat_nolookup.tsv',\n",
        "                   'circuit_vectors_cat_nolookup.tsv', 'circuit_metadata_cat_nolookup.tsv']:\n",
        "    files.download(file_vec)\n",
        "except Exception:\n",
        "  pass\n"
      ],
      "metadata": {
        "colab": {
          "base_uri": "https://localhost:8080/",
          "height": 17
        },
        "id": "IC-D5MdaJ6PD",
        "outputId": "1ba7f427-4db5-49e7-e396-18ea21f79fca"
      },
      "execution_count": null,
      "outputs": [
        {
          "output_type": "display_data",
          "data": {
            "text/plain": [
              "<IPython.core.display.Javascript object>"
            ],
            "application/javascript": [
              "\n",
              "    async function download(id, filename, size) {\n",
              "      if (!google.colab.kernel.accessAllowed) {\n",
              "        return;\n",
              "      }\n",
              "      const div = document.createElement('div');\n",
              "      const label = document.createElement('label');\n",
              "      label.textContent = `Downloading \"${filename}\": `;\n",
              "      div.appendChild(label);\n",
              "      const progress = document.createElement('progress');\n",
              "      progress.max = size;\n",
              "      div.appendChild(progress);\n",
              "      document.body.appendChild(div);\n",
              "\n",
              "      const buffers = [];\n",
              "      let downloaded = 0;\n",
              "\n",
              "      const channel = await google.colab.kernel.comms.open(id);\n",
              "      // Send a message to notify the kernel that we're ready.\n",
              "      channel.send({})\n",
              "\n",
              "      for await (const message of channel.messages) {\n",
              "        // Send a message to notify the kernel that we're ready.\n",
              "        channel.send({})\n",
              "        if (message.buffers) {\n",
              "          for (const buffer of message.buffers) {\n",
              "            buffers.push(buffer);\n",
              "            downloaded += buffer.byteLength;\n",
              "            progress.value = downloaded;\n",
              "          }\n",
              "        }\n",
              "      }\n",
              "      const blob = new Blob(buffers, {type: 'application/binary'});\n",
              "      const a = document.createElement('a');\n",
              "      a.href = window.URL.createObjectURL(blob);\n",
              "      a.download = filename;\n",
              "      div.appendChild(a);\n",
              "      a.click();\n",
              "      div.remove();\n",
              "    }\n",
              "  "
            ]
          },
          "metadata": {}
        },
        {
          "output_type": "display_data",
          "data": {
            "text/plain": [
              "<IPython.core.display.Javascript object>"
            ],
            "application/javascript": [
              "download(\"download_4388d0c9-d58d-4517-9ec1-d7fda7ed3442\", \"driver_vectors_cat_nolookup.tsv\", 53960)"
            ]
          },
          "metadata": {}
        },
        {
          "output_type": "display_data",
          "data": {
            "text/plain": [
              "<IPython.core.display.Javascript object>"
            ],
            "application/javascript": [
              "\n",
              "    async function download(id, filename, size) {\n",
              "      if (!google.colab.kernel.accessAllowed) {\n",
              "        return;\n",
              "      }\n",
              "      const div = document.createElement('div');\n",
              "      const label = document.createElement('label');\n",
              "      label.textContent = `Downloading \"${filename}\": `;\n",
              "      div.appendChild(label);\n",
              "      const progress = document.createElement('progress');\n",
              "      progress.max = size;\n",
              "      div.appendChild(progress);\n",
              "      document.body.appendChild(div);\n",
              "\n",
              "      const buffers = [];\n",
              "      let downloaded = 0;\n",
              "\n",
              "      const channel = await google.colab.kernel.comms.open(id);\n",
              "      // Send a message to notify the kernel that we're ready.\n",
              "      channel.send({})\n",
              "\n",
              "      for await (const message of channel.messages) {\n",
              "        // Send a message to notify the kernel that we're ready.\n",
              "        channel.send({})\n",
              "        if (message.buffers) {\n",
              "          for (const buffer of message.buffers) {\n",
              "            buffers.push(buffer);\n",
              "            downloaded += buffer.byteLength;\n",
              "            progress.value = downloaded;\n",
              "          }\n",
              "        }\n",
              "      }\n",
              "      const blob = new Blob(buffers, {type: 'application/binary'});\n",
              "      const a = document.createElement('a');\n",
              "      a.href = window.URL.createObjectURL(blob);\n",
              "      a.download = filename;\n",
              "      div.appendChild(a);\n",
              "      a.click();\n",
              "      div.remove();\n",
              "    }\n",
              "  "
            ]
          },
          "metadata": {}
        },
        {
          "output_type": "display_data",
          "data": {
            "text/plain": [
              "<IPython.core.display.Javascript object>"
            ],
            "application/javascript": [
              "download(\"download_95768df5-ca3d-4357-a369-16147eeb34bc\", \"driver_metadata_cat_nolookup.tsv\", 1739)"
            ]
          },
          "metadata": {}
        },
        {
          "output_type": "display_data",
          "data": {
            "text/plain": [
              "<IPython.core.display.Javascript object>"
            ],
            "application/javascript": [
              "\n",
              "    async function download(id, filename, size) {\n",
              "      if (!google.colab.kernel.accessAllowed) {\n",
              "        return;\n",
              "      }\n",
              "      const div = document.createElement('div');\n",
              "      const label = document.createElement('label');\n",
              "      label.textContent = `Downloading \"${filename}\": `;\n",
              "      div.appendChild(label);\n",
              "      const progress = document.createElement('progress');\n",
              "      progress.max = size;\n",
              "      div.appendChild(progress);\n",
              "      document.body.appendChild(div);\n",
              "\n",
              "      const buffers = [];\n",
              "      let downloaded = 0;\n",
              "\n",
              "      const channel = await google.colab.kernel.comms.open(id);\n",
              "      // Send a message to notify the kernel that we're ready.\n",
              "      channel.send({})\n",
              "\n",
              "      for await (const message of channel.messages) {\n",
              "        // Send a message to notify the kernel that we're ready.\n",
              "        channel.send({})\n",
              "        if (message.buffers) {\n",
              "          for (const buffer of message.buffers) {\n",
              "            buffers.push(buffer);\n",
              "            downloaded += buffer.byteLength;\n",
              "            progress.value = downloaded;\n",
              "          }\n",
              "        }\n",
              "      }\n",
              "      const blob = new Blob(buffers, {type: 'application/binary'});\n",
              "      const a = document.createElement('a');\n",
              "      a.href = window.URL.createObjectURL(blob);\n",
              "      a.download = filename;\n",
              "      div.appendChild(a);\n",
              "      a.click();\n",
              "      div.remove();\n",
              "    }\n",
              "  "
            ]
          },
          "metadata": {}
        },
        {
          "output_type": "display_data",
          "data": {
            "text/plain": [
              "<IPython.core.display.Javascript object>"
            ],
            "application/javascript": [
              "download(\"download_f31dbb9f-63f9-43fc-b179-0a7b4efaf26b\", \"constructor_vectors_cat_nolookup.tsv\", 17327)"
            ]
          },
          "metadata": {}
        },
        {
          "output_type": "display_data",
          "data": {
            "text/plain": [
              "<IPython.core.display.Javascript object>"
            ],
            "application/javascript": [
              "\n",
              "    async function download(id, filename, size) {\n",
              "      if (!google.colab.kernel.accessAllowed) {\n",
              "        return;\n",
              "      }\n",
              "      const div = document.createElement('div');\n",
              "      const label = document.createElement('label');\n",
              "      label.textContent = `Downloading \"${filename}\": `;\n",
              "      div.appendChild(label);\n",
              "      const progress = document.createElement('progress');\n",
              "      progress.max = size;\n",
              "      div.appendChild(progress);\n",
              "      document.body.appendChild(div);\n",
              "\n",
              "      const buffers = [];\n",
              "      let downloaded = 0;\n",
              "\n",
              "      const channel = await google.colab.kernel.comms.open(id);\n",
              "      // Send a message to notify the kernel that we're ready.\n",
              "      channel.send({})\n",
              "\n",
              "      for await (const message of channel.messages) {\n",
              "        // Send a message to notify the kernel that we're ready.\n",
              "        channel.send({})\n",
              "        if (message.buffers) {\n",
              "          for (const buffer of message.buffers) {\n",
              "            buffers.push(buffer);\n",
              "            downloaded += buffer.byteLength;\n",
              "            progress.value = downloaded;\n",
              "          }\n",
              "        }\n",
              "      }\n",
              "      const blob = new Blob(buffers, {type: 'application/binary'});\n",
              "      const a = document.createElement('a');\n",
              "      a.href = window.URL.createObjectURL(blob);\n",
              "      a.download = filename;\n",
              "      div.appendChild(a);\n",
              "      a.click();\n",
              "      div.remove();\n",
              "    }\n",
              "  "
            ]
          },
          "metadata": {}
        },
        {
          "output_type": "display_data",
          "data": {
            "text/plain": [
              "<IPython.core.display.Javascript object>"
            ],
            "application/javascript": [
              "download(\"download_1374d7bc-d9a4-4572-a7e5-4fcc165a51ab\", \"constructor_metadata_cat_nolookup.tsv\", 328)"
            ]
          },
          "metadata": {}
        },
        {
          "output_type": "display_data",
          "data": {
            "text/plain": [
              "<IPython.core.display.Javascript object>"
            ],
            "application/javascript": [
              "\n",
              "    async function download(id, filename, size) {\n",
              "      if (!google.colab.kernel.accessAllowed) {\n",
              "        return;\n",
              "      }\n",
              "      const div = document.createElement('div');\n",
              "      const label = document.createElement('label');\n",
              "      label.textContent = `Downloading \"${filename}\": `;\n",
              "      div.appendChild(label);\n",
              "      const progress = document.createElement('progress');\n",
              "      progress.max = size;\n",
              "      div.appendChild(progress);\n",
              "      document.body.appendChild(div);\n",
              "\n",
              "      const buffers = [];\n",
              "      let downloaded = 0;\n",
              "\n",
              "      const channel = await google.colab.kernel.comms.open(id);\n",
              "      // Send a message to notify the kernel that we're ready.\n",
              "      channel.send({})\n",
              "\n",
              "      for await (const message of channel.messages) {\n",
              "        // Send a message to notify the kernel that we're ready.\n",
              "        channel.send({})\n",
              "        if (message.buffers) {\n",
              "          for (const buffer of message.buffers) {\n",
              "            buffers.push(buffer);\n",
              "            downloaded += buffer.byteLength;\n",
              "            progress.value = downloaded;\n",
              "          }\n",
              "        }\n",
              "      }\n",
              "      const blob = new Blob(buffers, {type: 'application/binary'});\n",
              "      const a = document.createElement('a');\n",
              "      a.href = window.URL.createObjectURL(blob);\n",
              "      a.download = filename;\n",
              "      div.appendChild(a);\n",
              "      a.click();\n",
              "      div.remove();\n",
              "    }\n",
              "  "
            ]
          },
          "metadata": {}
        },
        {
          "output_type": "display_data",
          "data": {
            "text/plain": [
              "<IPython.core.display.Javascript object>"
            ],
            "application/javascript": [
              "download(\"download_e3a8d828-3bd1-47f5-831f-e3891284ab1e\", \"circuit_vectors_cat_nolookup.tsv\", 17032)"
            ]
          },
          "metadata": {}
        },
        {
          "output_type": "display_data",
          "data": {
            "text/plain": [
              "<IPython.core.display.Javascript object>"
            ],
            "application/javascript": [
              "\n",
              "    async function download(id, filename, size) {\n",
              "      if (!google.colab.kernel.accessAllowed) {\n",
              "        return;\n",
              "      }\n",
              "      const div = document.createElement('div');\n",
              "      const label = document.createElement('label');\n",
              "      label.textContent = `Downloading \"${filename}\": `;\n",
              "      div.appendChild(label);\n",
              "      const progress = document.createElement('progress');\n",
              "      progress.max = size;\n",
              "      div.appendChild(progress);\n",
              "      document.body.appendChild(div);\n",
              "\n",
              "      const buffers = [];\n",
              "      let downloaded = 0;\n",
              "\n",
              "      const channel = await google.colab.kernel.comms.open(id);\n",
              "      // Send a message to notify the kernel that we're ready.\n",
              "      channel.send({})\n",
              "\n",
              "      for await (const message of channel.messages) {\n",
              "        // Send a message to notify the kernel that we're ready.\n",
              "        channel.send({})\n",
              "        if (message.buffers) {\n",
              "          for (const buffer of message.buffers) {\n",
              "            buffers.push(buffer);\n",
              "            downloaded += buffer.byteLength;\n",
              "            progress.value = downloaded;\n",
              "          }\n",
              "        }\n",
              "      }\n",
              "      const blob = new Blob(buffers, {type: 'application/binary'});\n",
              "      const a = document.createElement('a');\n",
              "      a.href = window.URL.createObjectURL(blob);\n",
              "      a.download = filename;\n",
              "      div.appendChild(a);\n",
              "      a.click();\n",
              "      div.remove();\n",
              "    }\n",
              "  "
            ]
          },
          "metadata": {}
        },
        {
          "output_type": "display_data",
          "data": {
            "text/plain": [
              "<IPython.core.display.Javascript object>"
            ],
            "application/javascript": [
              "download(\"download_bb53268e-4cd0-44ae-9116-7f85da197fe9\", \"circuit_metadata_cat_nolookup.tsv\", 901)"
            ]
          },
          "metadata": {}
        }
      ]
    },
    {
      "cell_type": "code",
      "source": [
        "keras.utils.plot_model(model,\n",
        "                       show_shapes=True,\n",
        "                       show_layer_activations=True)"
      ],
      "metadata": {
        "id": "bg7KJyELKfNH",
        "outputId": "0278a86c-f3e7-4d64-8960-78d514c078f9",
        "colab": {
          "base_uri": "https://localhost:8080/",
          "height": 811
        }
      },
      "execution_count": null,
      "outputs": [
        {
          "output_type": "execute_result",
          "data": {
            "image/png": "[encoded data removed]",
            "text/plain": [
              "<IPython.core.display.Image object>"
            ]
          },
          "metadata": {},
          "execution_count": 14
        }
      ]
    },
    {
      "cell_type": "code",
      "source": [],
      "metadata": {
        "id": "0EOEBwEJabUF"
      },
      "execution_count": null,
      "outputs": []
    }
  ]
}